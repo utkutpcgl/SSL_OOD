{
 "cells": [
  {
   "cell_type": "code",
   "execution_count": null,
   "metadata": {},
   "outputs": [],
   "source": [
    "from matplotlib import pyplot as plt\n",
    "from random import random\n"
   ]
  },
  {
   "cell_type": "markdown",
   "metadata": {},
   "source": [
    "What kind of transforms are necessary and is the numpy image truly rgb or bgr, also does it go like width, height, channels??"
   ]
  },
  {
   "cell_type": "code",
   "execution_count": null,
   "metadata": {},
   "outputs": [],
   "source": [
    "import numpy as np\n",
    "import torch\n",
    "\n",
    "\n",
    "class RImages_300K(torch.utils.data.Dataset):\n",
    "    def __init__(self, transform=None, data_path=\"../../300K_random_images.npy\"):\n",
    "        data_path=\"../../300K_random_images.npy\"\n",
    "        dataset_np = np.load(data_path)\n",
    "        dataset_np.shape\n",
    "        self.dataset_np = np.load(data_path)\n",
    "        self.offset = 0  # offset index\n",
    "        self.transform = transform\n",
    "        self.len = dataset_np.shape[0]\n",
    "\n",
    "    def __getitem__(self, index):\n",
    "        index = (index + self.offset) % self.__len__()\n",
    "        img = self.dataset_np[index]\n",
    "        if self.transform is not None:\n",
    "            img = self.transform(img)\n",
    "        return img, 0  # 0 is the class -> Always OOD.\n",
    "\n",
    "    def __len__(self):\n",
    "        return self.len\n"
   ]
  },
  {
   "cell_type": "code",
   "execution_count": null,
   "metadata": {},
   "outputs": [],
   "source": [
    "temp_dataset = RImages_300K()"
   ]
  },
  {
   "cell_type": "code",
   "execution_count": null,
   "metadata": {},
   "outputs": [],
   "source": [
    "if __name__ == \"__main__\":\n",
    "    def show_img():\n",
    "        rand_int = int(random()*len(temp_dataset))\n",
    "        print(rand_int)\n",
    "        plt.imshow(temp_dataset[rand_int][0], interpolation='bicubic')\n",
    "        plt.show()\n",
    "    show_img()"
   ]
  }
 ],
 "metadata": {
  "interpreter": {
   "hash": "31f2aee4e71d21fbe5cf8b01ff0e069b9275f58929596ceb00d14d90e3e16cd6"
  },
  "kernelspec": {
   "display_name": "Python 3.6.9 64-bit",
   "language": "python",
   "name": "python3"
  },
  "language_info": {
   "codemirror_mode": {
    "name": "ipython",
    "version": 3
   },
   "file_extension": ".py",
   "mimetype": "text/x-python",
   "name": "python",
   "nbconvert_exporter": "python",
   "pygments_lexer": "ipython3",
   "version": "3.6.9"
  },
  "orig_nbformat": 4
 },
 "nbformat": 4,
 "nbformat_minor": 2
}
