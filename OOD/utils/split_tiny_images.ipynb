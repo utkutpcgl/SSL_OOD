{
 "cells": [
  {
   "cell_type": "code",
   "execution_count": null,
   "metadata": {},
   "outputs": [],
   "source": [
    "import numpy as np\n",
    "from pathlib import Path\n",
    "import cv2\n",
    "from tqdm import tqdm"
   ]
  },
  {
   "cell_type": "code",
   "execution_count": null,
   "metadata": {},
   "outputs": [],
   "source": [
    "# Tiny images are combined vertically to 32x(32x64) images.\n",
    "IMAGES_PATH = Path(\"/home/utku/Documents/repos/SSL_OOD/TinyImages\")\n",
    "TARGET_FOLDER = Path(\"/home/utku/Documents/repos/SSL_OOD/TinyImagesSplit\")\n",
    "HEIGHT = WIDTH = 32\n",
    "CHANNELS = 3\n",
    "\n",
    "\n",
    "def get_images_path_list(image_path):\n",
    "    images_path_list = []\n",
    "    for image_folder in image_path.iterdir():\n",
    "        if image_folder.is_dir():\n",
    "            for image in image_folder.iterdir():\n",
    "                if image.suffix == \".jpg\":\n",
    "                    images_path_list.append(image)\n",
    "    images_path_list.sort()\n",
    "    return images_path_list\n",
    "\n",
    "def get_folders_path_list(image_path):\n",
    "    folders_path_list = []\n",
    "    for folder in image_path.iterdir():\n",
    "        if folder.is_dir():\n",
    "            folders_path_list.append(folder)\n",
    "    folders_path_list.sort()\n",
    "    return folders_path_list\n",
    "\n",
    "def create_folders(image_path):\n",
    "    folders_path_list = get_folders_path_list(image_path)\n",
    "    for folder in folders_path_list:\n",
    "        target_path = TARGET_FOLDER / folder.name\n",
    "        target_path.mkdir(exist_ok = True, parents=True)\n"
   ]
  },
  {
   "cell_type": "code",
   "execution_count": null,
   "metadata": {},
   "outputs": [],
   "source": [
    "\n",
    "def split_tiny_images(image_path = IMAGES_PATH):\n",
    "    create_folders(image_path)\n",
    "    images_path_list = get_images_path_list(image_path)\n",
    "    for image_path in tqdm(images_path_list):\n",
    "        combined_cv2_img = cv2.imread(str(image_path))\n",
    "        # split the image in terms of columns\n",
    "        for img_count in range(64):\n",
    "            # sing_img_index = com_img_index*64 + img_count\n",
    "            single_img = combined_cv2_img[img_count*32:(img_count+1)*32]\n",
    "            target_subfolder = image_path.parent.name\n",
    "            target_img_path = TARGET_FOLDER/target_subfolder/f\"{image_path.stem}_{img_count}{image_path.suffix}\"\n",
    "            cv2.imwrite(str(target_img_path), single_img)\n",
    "split_tiny_images()"
   ]
  },
  {
   "cell_type": "code",
   "execution_count": null,
   "metadata": {},
   "outputs": [],
   "source": [
    "\n",
    "def split_tiny_images_pyvips(image_path = IMAGES_PATH):\n",
    "    create_folders(image_path)\n",
    "    images_path_list = get_images_path_list(image_path)\n",
    "    for image_path in tqdm(images_path_list):\n",
    "        combined_cv2_img = cv2.imread(str(image_path))\n",
    "        # split the image in terms of columns\n",
    "        for img_count in range(64):\n",
    "            # sing_img_index = com_img_index*64 + img_count\n",
    "            single_img = combined_cv2_img[img_count*32:(img_count+1)*32]\n",
    "            target_subfolder = image_path.parent.name\n",
    "            target_img_path = TARGET_FOLDER/target_subfolder/f\"{image_path.stem}_{img_count}{image_path.suffix}\"\n",
    "            cv2.imwrite(str(target_img_path), single_img)\n",
    "split_tiny_images()"
   ]
  },
  {
   "cell_type": "code",
   "execution_count": null,
   "metadata": {},
   "outputs": [],
   "source": [
    "import pyvips"
   ]
  }
 ],
 "metadata": {
  "interpreter": {
   "hash": "31f2aee4e71d21fbe5cf8b01ff0e069b9275f58929596ceb00d14d90e3e16cd6"
  },
  "kernelspec": {
   "display_name": "Python 3.6.9 64-bit",
   "language": "python",
   "name": "python3"
  },
  "language_info": {
   "codemirror_mode": {
    "name": "ipython",
    "version": 3
   },
   "file_extension": ".py",
   "mimetype": "text/x-python",
   "name": "python",
   "nbconvert_exporter": "python",
   "pygments_lexer": "ipython3",
   "version": "3.6.9"
  },
  "orig_nbformat": 4
 },
 "nbformat": 4,
 "nbformat_minor": 2
}
