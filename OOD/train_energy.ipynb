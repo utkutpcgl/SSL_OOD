{
 "cells": [
  {
   "cell_type": "code",
   "execution_count": null,
   "metadata": {},
   "outputs": [],
   "source": [
    "import torch\n",
    "device = \"cuda:0\"\n",
    "torch.cuda.set_per_process_memory_fraction(0.8, device=device)"
   ]
  },
  {
   "cell_type": "code",
   "execution_count": null,
   "metadata": {},
   "outputs": [],
   "source": [
    "from utils.train_energy import train_energy, MODEL_SETTINGS\n",
    "# Train for 16 different settings.\n",
    "for model_setting in MODEL_SETTINGS:\n",
    "    for cifar10_pretrained_bool in [True, False]:\n",
    "        for freeze_backbone in [True, False]:\n",
    "            train_energy(model_setting=model_setting, cifar10_pretrained_bool=cifar10_pretrained_bool, freeze_backbone=freeze_backbone)"
   ]
  }
 ],
 "metadata": {
  "interpreter": {
   "hash": "1484ded363958018b63f22e3cca0a4db1032bdb5172b1a076544307dcdefb374"
  },
  "kernelspec": {
   "display_name": "Python 3.9.13 ('base')",
   "language": "python",
   "name": "python3"
  },
  "language_info": {
   "codemirror_mode": {
    "name": "ipython",
    "version": 3
   },
   "file_extension": ".py",
   "mimetype": "text/x-python",
   "name": "python",
   "nbconvert_exporter": "python",
   "pygments_lexer": "ipython3",
   "version": "3.9.13"
  },
  "orig_nbformat": 4
 },
 "nbformat": 4,
 "nbformat_minor": 2
}
