{
 "cells": [
  {
   "cell_type": "code",
   "execution_count": null,
   "metadata": {},
   "outputs": [],
   "source": [
    "# %run MyOtherNotebook.ipynb To import from other ipynb files.\n",
    "import torchvision\n",
    "from torchvision import transforms\n",
    "import torch\n",
    "from typing import OrderedDict\n",
    "from tqdm import tqdm\n",
    "from pathlib import Path\n",
    "from utils.full_train_cifar10 import full_train_cifar10\n",
    "\n",
    "# Got help from https://github.com/kuangliu/pytorch-cifar/blob/master/main.py \n",
    "TRAIN_ALL=True # Train all models.\n",
    "all_settings = [\"ImageNet_Pretrained\", \"BYOL\", \"DINO\", \"BarlowTwins\"]\n",
    "model_setting=\"BarlowTwins\" # ImageNet_Pretrained, BYOL, DINO or BarlowTwins"
   ]
  },
  {
   "cell_type": "code",
   "execution_count": null,
   "metadata": {},
   "outputs": [],
   "source": [
    "device = \"cuda:0\"\n",
    "torch.backends.cudnn.benchmark = True\n",
    "torch.cuda.set_per_process_memory_fraction(0.8, device=device)\n",
    "NUMBER_OF_CLASSES = 10"
   ]
  },
  {
   "cell_type": "code",
   "execution_count": null,
   "metadata": {},
   "outputs": [],
   "source": [
    "def create_resnet(model_setting):\n",
    "    if model_setting ==\"ImageNet_Pretrained\":\n",
    "        ResNet = torchvision.models.resnet50(weights=\"IMAGENET1K_V2\")\n",
    "        number_of_input_features = ResNet.fc.in_features\n",
    "        ResNet.fc = torch.nn.Linear(number_of_input_features, NUMBER_OF_CLASSES)\n",
    "    else:\n",
    "        ResNet = torchvision.models.resnet50()\n",
    "        number_of_input_features = ResNet.fc.in_features\n",
    "        ResNet.fc = torch.nn.Identity()\n",
    "        if model_setting==\"BYOL\":\n",
    "            weight_path = \"/home/utku/Documents/repos/SSL_OOD/resnet50_byol_imagenet2012.pth.tar\"\n",
    "            state_dict = torch.load(weight_path)[\"online_backbone\"]\n",
    "            correct_state_dict = OrderedDict()\n",
    "            for k, v in state_dict.items():\n",
    "                name = k[7:]  # remove `module.`\n",
    "                correct_state_dict[name] = v\n",
    "            ResNet.load_state_dict(correct_state_dict)\n",
    "            ResNet.fc = torch.nn.Linear(number_of_input_features, NUMBER_OF_CLASSES)\n",
    "        elif model_setting ==\"BarlowTwins\":\n",
    "            weight_path = \"/home/utku/Documents/repos/SSL_OOD/barlowT_resnet50.pth\"\n",
    "            state_dict = torch.load(weight_path)\n",
    "            ResNet.load_state_dict(state_dict)\n",
    "            ResNet.fc = torch.nn.Linear(number_of_input_features, NUMBER_OF_CLASSES)\n",
    "            pass\n",
    "        elif model_setting ==\"DINO\":\n",
    "            weight_path = \"/home/utku/Documents/repos/SSL_OOD/dino_resnet50_pretrain.pth\"\n",
    "            state_dict = torch.load(weight_path)\n",
    "            ResNet.load_state_dict(state_dict)\n",
    "            ResNet.fc = torch.nn.Linear(number_of_input_features, NUMBER_OF_CLASSES)\n",
    "        else:\n",
    "            raise Exception\n",
    "    ResNet = ResNet.to(device)\n",
    "    return ResNet"
   ]
  },
  {
   "cell_type": "code",
   "execution_count": null,
   "metadata": {},
   "outputs": [],
   "source": [
    "if TRAIN_ALL:\n",
    "    for model_setting in all_settings:\n",
    "        ResNet = create_resnet(model_setting=model_setting)\n",
    "        full_train_cifar10(ResNet, device=device, model_setting=model_setting)\n",
    "else:\n",
    "    ResNet = create_resnet(model_setting=model_setting)\n",
    "    full_train_cifar10(ResNet, device=device, model_setting=model_setting)"
   ]
  }
 ],
 "metadata": {
  "interpreter": {
   "hash": "1484ded363958018b63f22e3cca0a4db1032bdb5172b1a076544307dcdefb374"
  },
  "kernelspec": {
   "display_name": "Python 3.9.13 ('base')",
   "language": "python",
   "name": "python3"
  },
  "language_info": {
   "codemirror_mode": {
    "name": "ipython",
    "version": 3
   },
   "file_extension": ".py",
   "mimetype": "text/x-python",
   "name": "python",
   "nbconvert_exporter": "python",
   "pygments_lexer": "ipython3",
   "version": "3.9.13"
  },
  "orig_nbformat": 4
 },
 "nbformat": 4,
 "nbformat_minor": 2
}
