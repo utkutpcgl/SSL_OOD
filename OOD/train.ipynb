{
 "cells": [
  {
   "cell_type": "code",
   "execution_count": 3,
   "metadata": {},
   "outputs": [],
   "source": [
    "# %run MyOtherNotebook.ipynb To import from other ipynb files.\n",
    "import torchvision\n",
    "import torch\n",
    "import copy\n",
    "NUMBER_OF_CLASSES = 10\n",
    "WideResNet = torchvision.models.wide_resnet50_2(pretrained=False)\n",
    "# The original paper also used wideresnet 50. (Impelemented their by their own.).\n",
    "\n",
    "\n",
    "class WideResNetModel(torch.nn.Module):\n",
    "        def __init__(self, feature_extractor=WideResNet):\n",
    "            out_features = WideResNet.fc.in_features\n",
    "            super(WideResNetModel, self).__init__()\n",
    "            # number_of_input_features is 2048 (Resnet50.fc.in_features)\n",
    "            self.feature_extractor = copy.deepcopy(feature_extractor)\n",
    "            number_of_input_features = out_features\n",
    "            self.feature_extractor.fc = torch.nn.Linear(number_of_input_features, NUMBER_OF_CLASSES)\n",
    "\n",
    "        def forward(self, input_frame):\n",
    "            output = self.feature_extractor(input_frame)\n",
    "            return output\n",
    "\n",
    "WideResNet = WideResNetModel()\n"
   ]
  }
 ],
 "metadata": {
  "interpreter": {
   "hash": "1484ded363958018b63f22e3cca0a4db1032bdb5172b1a076544307dcdefb374"
  },
  "kernelspec": {
   "display_name": "Python 3.9.13 ('base')",
   "language": "python",
   "name": "python3"
  },
  "language_info": {
   "codemirror_mode": {
    "name": "ipython",
    "version": 3
   },
   "file_extension": ".py",
   "mimetype": "text/x-python",
   "name": "python",
   "nbconvert_exporter": "python",
   "pygments_lexer": "ipython3",
   "version": "3.9.13"
  },
  "orig_nbformat": 4
 },
 "nbformat": 4,
 "nbformat_minor": 2
}
